{
 "cells": [
  {
   "cell_type": "markdown",
   "id": "b2aabff2",
   "metadata": {},
   "source": [
    "1. OCR은 무엇인가?\n",
    "2. OCR 라이브러리들은 뭐가 있을까?\n",
    "3. PaddleOCR의 출력에서 뭘 보면 되는가?\n",
    "4. OCR로 추출된 텍스트를 이미지에서 바꿀 수 있는 방법이 무엇인가?\n",
    "5. OCR로 뭘 할 수 있을까?"
   ]
  }
 ],
 "metadata": {
  "language_info": {
   "name": "python"
  }
 },
 "nbformat": 4,
 "nbformat_minor": 5
}
